{
 "cells": [
  {
   "cell_type": "code",
   "execution_count": 1,
   "metadata": {
    "ExecuteTime": {
     "end_time": "2019-12-13T13:49:14.345159Z",
     "start_time": "2019-12-13T13:49:14.336979Z"
    }
   },
   "outputs": [],
   "source": [
    "import sys\n",
    "sys.path.append(\"/Users/nicolasaunai/Documents/code/phare/phare/pharein\")\n",
    "import pharein as ph"
   ]
  },
  {
   "cell_type": "code",
   "execution_count": 2,
   "metadata": {
    "ExecuteTime": {
     "end_time": "2019-12-13T13:49:14.653217Z",
     "start_time": "2019-12-13T13:49:14.648822Z"
    }
   },
   "outputs": [],
   "source": [
    "ph.globals.sim = None"
   ]
  },
  {
   "cell_type": "markdown",
   "metadata": {},
   "source": [
    "# user initialization script"
   ]
  },
  {
   "cell_type": "code",
   "execution_count": 3,
   "metadata": {
    "ExecuteTime": {
     "end_time": "2019-12-13T13:49:15.196592Z",
     "start_time": "2019-12-13T13:49:15.152955Z"
    }
   },
   "outputs": [
    {
     "name": "stdout",
     "output_type": "stream",
     "text": [
      "Need to test boxes are OK (no overlap, in level range, etc.)\n"
     ]
    },
    {
     "data": {
      "text/plain": [
       "<pharein.diagnostics.ElectromagDiagnostics at 0x106e52950>"
      ]
     },
     "execution_count": 3,
     "metadata": {},
     "output_type": "execute_result"
    }
   ],
   "source": [
    "#!/usr/bin/env python\n",
    "\n",
    "from pharein import Simulation\n",
    "from pharein import MaxwellianFluidModel\n",
    "from pharein import ElectromagDiagnostics\n",
    "from pharein import FluidDiagnostics\n",
    "\n",
    "#------------------------------------\n",
    "#     configure the simulation\n",
    "#------------------------------------\n",
    "\n",
    "Simulation(\n",
    "    time_step_nbr=1000,                   # number of time steps (not specified if time_step and final_time provided)\n",
    "    final_time=1.,                        # simulation final time (not specified if time_step and time_step_nbr given)\n",
    "    boundary_types=\"periodic\",            # boundary condition, string or tuple, length == len(cell) == len(dl)\n",
    "    cells=80,                             # integer or tuple length == dimension\n",
    "    dl=0.1,                               # mesh size of the root level, float or tuple\n",
    "    path='test5'                          # directory where INI file and diagnostics directories will be\n",
    "    # time_step = 0.005,                  # simulation time step (not specified if time_step_nbr and final_time given)\n",
    "    # domain_size = 8.,                   # float or tuple, not specified if dl and cells are\n",
    "    # interp_order = 1,                   # interpolation order, [default = 1] can be 1, 2, 3 or 4\n",
    "    # layout = \"yee\",                     # grid layout, [default=\"yee\"]\n",
    "    # origin = 0.,                        # position of the origin of the domain, float or tuple (length = dimension)\n",
    "    # particle_pusher = \"modified_boris\", # particle pusher method, [default = \"modified_boris\"]\n",
    "    # refined_particle_nbr = 2,           # number of refined particle a particle is split into [default : ]\n",
    "    # diag_export_format = 'ascii',       # export format of the diagnostics [default = 'ascii']\n",
    "    # refinement = {\"level\":[0,1],        # AMR parameters\n",
    "    #                \"extent_ratio\":[0.4, 0.6],\n",
    "    #                \"refinement_iterations\":[0, 3]},\n",
    "\n",
    ") # end Simulation\n",
    "\n",
    "\n",
    "\n",
    "#--------------------------------------------\n",
    "#     configure the initial condition\n",
    "#\n",
    "# available models:\n",
    "# - UniformModel         : electromagnetic fields and plasma are uniform\n",
    "# - MaxwellianFluidModel : user custom functions for electromagnetic field\n",
    "#                          and plasma moments (assumes maxwellian distrib).\n",
    "#--------------------------------------------\n",
    "\n",
    "\n",
    "# The following block defines a uniform initial condition\n",
    "#\n",
    "# as many ion populations are allowed\n",
    "#\n",
    "# UniformModel(proton1={},\n",
    "#                proton2={\"density\":2,\n",
    "#                         \"vbulk\":(1., 0., 0.)}\n",
    "                # demo_species = {density: 2,           # default = 1\n",
    "                #                 vbulk: (10,0,0),      # default = (0., 0., 0.)\n",
    "                #                 charge: 1,            # default = 1\n",
    "                #                 mass: 16,             # default = 1\n",
    "                #                 beta: 0.05,           # default = 1\n",
    "                #                 anisotropy=1          # default = 1 (Tperp/Tpara)\n",
    "                #                 }\n",
    "#)\n",
    "\n",
    "\n",
    "# in the following we usethe MaxwellianFluidModel\n",
    "\n",
    "import numpy as np\n",
    "\n",
    "def n(x):\n",
    "    x0 = 5.\n",
    "    return 1./np.cosh(x-x0)**2\n",
    "\n",
    "def bx(x):\n",
    "    x0=5.\n",
    "    return np.tanh(x-x0)\n",
    "\n",
    "\n",
    "MaxwellianFluidModel(bx=bx,\n",
    "                     protons={\"density\":n},\n",
    "                     background={})\n",
    "\n",
    "\n",
    "\n",
    "\n",
    "ElectromagDiagnostics(\n",
    "    name=\"ElectromagDiagnostics1\",\n",
    "    diag_type=\"E\",                  # available : (\"E\", \"B\")\n",
    "    write_every=10,\n",
    "    compute_every=5,\n",
    "    start_teration=0,\n",
    "    last_iteration=990,\n",
    "    path = 'ElectromagDiagnostics1'   # where output files will be written, [default: name]\n",
    ") \n",
    "\n",
    "\n",
    "\n",
    "\n",
    "FluidDiagnostics(\n",
    "    name=\"FluidDiagnostics1\",       # name of the diagnostics\n",
    "    diag_type=\"rho_s\",              # choose in (rho_s, flux_s)\n",
    "    write_every=10,                 # write on disk every x iterations\n",
    "    compute_every=5,                # compute diagnostics every x iterations ( x <= write_every)\n",
    "    start_iteration=0,              # iteration at which diag is enabled\n",
    "    last_iteration=990,             # iteration at which diag is turned off\n",
    "    species_name=\"proton1\"          # name of the species for which the diagnostics is made\n",
    "  #,path = 'FluidDiagnostics1'      # where output files will be written, [default: name]\n",
    ")\n",
    "#\n",
    "#\n",
    "#ph.FluidDiagnostics(\n",
    "#    name=\"FluidDiagnostics2\",\n",
    "#    diag_type=\"flux_s\",\n",
    "#    write_every=10,\n",
    "#    compute_every=5,\n",
    "#    start_iteration=0,\n",
    "#    last_iteration=990,\n",
    "#    species_name=\"proton1\"\n",
    "#)\n",
    "#\n",
    "#\n",
    "\n"
   ]
  },
  {
   "cell_type": "code",
   "execution_count": 4,
   "metadata": {
    "ExecuteTime": {
     "end_time": "2019-12-13T13:49:15.515364Z",
     "start_time": "2019-12-13T13:49:15.504867Z"
    }
   },
   "outputs": [
    {
     "data": {
      "text/plain": [
       "{'background': {'charge': 1.0,\n",
       "  'density': <function pharein.maxwellian_fluid_model.<lambda>>,\n",
       "  'mass': 1.0,\n",
       "  'nbrParticlesPerCell': 100,\n",
       "  'vthx': <function pharein.maxwellian_fluid_model.<lambda>>,\n",
       "  'vthy': <function pharein.maxwellian_fluid_model.<lambda>>,\n",
       "  'vthz': <function pharein.maxwellian_fluid_model.<lambda>>,\n",
       "  'vx': <function pharein.maxwellian_fluid_model.<lambda>>,\n",
       "  'vy': <function pharein.maxwellian_fluid_model.<lambda>>,\n",
       "  'vz': <function pharein.maxwellian_fluid_model.<lambda>>},\n",
       " 'bx': <function pharein.maxwellian_fluid_model.<lambda>>,\n",
       " 'by': <function pharein.maxwellian_fluid_model.<lambda>>,\n",
       " 'bz': <function pharein.maxwellian_fluid_model.<lambda>>,\n",
       " 'ex': <function pharein.maxwellian_fluid_model.<lambda>>,\n",
       " 'ey': <function pharein.maxwellian_fluid_model.<lambda>>,\n",
       " 'ez': <function pharein.maxwellian_fluid_model.<lambda>>,\n",
       " 'model': 'model',\n",
       " 'model_name': 'custom',\n",
       " 'protons': {'charge': 1.0,\n",
       "  'density': <function __main__.n>,\n",
       "  'mass': 1.0,\n",
       "  'nbrParticlesPerCell': 100,\n",
       "  'vthx': <function pharein.maxwellian_fluid_model.<lambda>>,\n",
       "  'vthy': <function pharein.maxwellian_fluid_model.<lambda>>,\n",
       "  'vthz': <function pharein.maxwellian_fluid_model.<lambda>>,\n",
       "  'vx': <function pharein.maxwellian_fluid_model.<lambda>>,\n",
       "  'vy': <function pharein.maxwellian_fluid_model.<lambda>>,\n",
       "  'vz': <function pharein.maxwellian_fluid_model.<lambda>>}}"
      ]
     },
     "execution_count": 4,
     "metadata": {},
     "output_type": "execute_result"
    }
   ],
   "source": [
    "ph.globals.sim.model.model_dict"
   ]
  },
  {
   "cell_type": "code",
   "execution_count": 5,
   "metadata": {
    "ExecuteTime": {
     "end_time": "2019-12-13T13:49:15.869622Z",
     "start_time": "2019-12-13T13:49:15.864533Z"
    }
   },
   "outputs": [],
   "source": [
    "d = ph.globals.sim.model.model_dict[\"protons\"][\"density\"]"
   ]
  },
  {
   "cell_type": "code",
   "execution_count": 6,
   "metadata": {
    "ExecuteTime": {
     "end_time": "2019-12-13T13:49:16.344782Z",
     "start_time": "2019-12-13T13:49:16.336540Z"
    }
   },
   "outputs": [
    {
     "data": {
      "text/plain": [
       "0.009866037165440192"
      ]
     },
     "execution_count": 6,
     "metadata": {},
     "output_type": "execute_result"
    }
   ],
   "source": [
    "d(2)"
   ]
  },
  {
   "cell_type": "code",
   "execution_count": 7,
   "metadata": {
    "ExecuteTime": {
     "end_time": "2019-12-13T13:49:16.744798Z",
     "start_time": "2019-12-13T13:49:16.736266Z"
    }
   },
   "outputs": [
    {
     "data": {
      "text/plain": [
       "<function pharein.maxwellian_fluid_model.<lambda>>"
      ]
     },
     "execution_count": 7,
     "metadata": {},
     "output_type": "execute_result"
    }
   ],
   "source": [
    "ph.globals.sim.model.model_dict['bx']"
   ]
  },
  {
   "cell_type": "code",
   "execution_count": 10,
   "metadata": {
    "ExecuteTime": {
     "end_time": "2019-12-13T13:54:40.839390Z",
     "start_time": "2019-12-13T13:54:40.831981Z"
    }
   },
   "outputs": [
    {
     "name": "stdout",
     "output_type": "stream",
     "text": [
      "simulation/diagnostics/name/ElectromagDiagnostics1\n",
      "simulation/diagnostics/type/electromag\n",
      "simulation/diagnostics/subtype/EM_E\n",
      "simulation/diagnostics/compute_every/5\n",
      "simulation/diagnostics/write_every/10\n",
      "simulation/diagnostics/start_iteration/0\n",
      "simulation/diagnostics/last_iteration/990\n"
     ]
    }
   ],
   "source": [
    "for diag in ph.globals.sim.diagnostics:\n",
    "    print(\"simulation/diagnostics/name/\" + diag.name)\n",
    "    print(\"simulation/diagnostics/type/\"  + diag.category)\n",
    "    print(\"simulation/diagnostics/subtype/\"  + diag.diag_type)\n",
    "    print(\"simulation/diagnostics/compute_every/\" + str(diag.compute_every))\n",
    "    print(\"simulation/diagnostics/write_every/\" + str(diag.write_every))\n",
    "    print(\"simulation/diagnostics/start_iteration/\" + str(diag.start_iteration))    \n",
    "    print(\"simulation/diagnostics/last_iteration/\" + str(diag.last_iteration))    \n",
    "    "
   ]
  },
  {
   "cell_type": "code",
   "execution_count": null,
   "metadata": {},
   "outputs": [],
   "source": []
  },
  {
   "cell_type": "code",
   "execution_count": 22,
   "metadata": {
    "ExecuteTime": {
     "end_time": "2019-12-13T14:53:15.709373Z",
     "start_time": "2019-12-13T14:53:15.702017Z"
    }
   },
   "outputs": [
    {
     "data": {
      "text/plain": [
       "3.7037037037037037"
      ]
     },
     "execution_count": 22,
     "metadata": {},
     "output_type": "execute_result"
    }
   ],
   "source": [
    "5e-6*800/0.2*200/0.125*100*200/0.001/3600/2000/24"
   ]
  },
  {
   "cell_type": "code",
   "execution_count": 13,
   "metadata": {
    "ExecuteTime": {
     "end_time": "2019-12-13T14:47:46.871859Z",
     "start_time": "2019-12-13T14:47:46.864925Z"
    }
   },
   "outputs": [
    {
     "data": {
      "text/plain": [
       "13"
      ]
     },
     "execution_count": 13,
     "metadata": {},
     "output_type": "execute_result"
    }
   ],
   "source": [
    "49000/3600"
   ]
  },
  {
   "cell_type": "code",
   "execution_count": 18,
   "metadata": {
    "ExecuteTime": {
     "end_time": "2019-12-13T14:50:11.704644Z",
     "start_time": "2019-12-13T14:50:11.696647Z"
    }
   },
   "outputs": [
    {
     "data": {
      "text/plain": [
       "(0.125, 0.125)"
      ]
     },
     "execution_count": 18,
     "metadata": {},
     "output_type": "execute_result"
    }
   ],
   "source": [
    "128./1024, 32./256."
   ]
  },
  {
   "cell_type": "code",
   "execution_count": null,
   "metadata": {},
   "outputs": [],
   "source": []
  }
 ],
 "metadata": {
  "kernelspec": {
   "display_name": "Python 3",
   "language": "python",
   "name": "python3"
  },
  "language_info": {
   "codemirror_mode": {
    "name": "ipython",
    "version": 2
   },
   "file_extension": ".py",
   "mimetype": "text/x-python",
   "name": "python",
   "nbconvert_exporter": "python",
   "pygments_lexer": "ipython2",
   "version": "2.7.16"
  },
  "varInspector": {
   "cols": {
    "lenName": 16,
    "lenType": 16,
    "lenVar": 40
   },
   "kernels_config": {
    "python": {
     "delete_cmd_postfix": "",
     "delete_cmd_prefix": "del ",
     "library": "var_list.py",
     "varRefreshCmd": "print(var_dic_list())"
    },
    "r": {
     "delete_cmd_postfix": ") ",
     "delete_cmd_prefix": "rm(",
     "library": "var_list.r",
     "varRefreshCmd": "cat(var_dic_list()) "
    }
   },
   "types_to_exclude": [
    "module",
    "function",
    "builtin_function_or_method",
    "instance",
    "_Feature"
   ],
   "window_display": false
  }
 },
 "nbformat": 4,
 "nbformat_minor": 2
}
